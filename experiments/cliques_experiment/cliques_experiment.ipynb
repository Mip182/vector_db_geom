{
 "cells": [
  {
   "metadata": {
    "ExecuteTime": {
     "end_time": "2024-05-12T17:21:04.800071Z",
     "start_time": "2024-05-12T17:21:04.794283Z"
    }
   },
   "cell_type": "code",
   "source": [
    "import sys\n",
    "\n",
    "sys.path.append('../..')\n",
    "\n",
    "import warnings\n",
    "warnings.filterwarnings('ignore')"
   ],
   "id": "e889b50746fdabcf",
   "outputs": [],
   "execution_count": 1
  },
  {
   "cell_type": "code",
   "id": "initial_id",
   "metadata": {
    "collapsed": true,
    "jupyter": {
     "is_executing": true
    },
    "ExecuteTime": {
     "start_time": "2024-05-12T17:21:05.186623Z"
    }
   },
   "source": [
    "from partition import EmbeddingsPartition\n",
    "from projections import SimplexProjection\n",
    "\n",
    "import numpy as np\n",
    "import matplotlib.pyplot as plt\n",
    "from imblearn.datasets import fetch_datasets\n",
    "\n",
    "dataset_name = 'spectrometer'\n",
    "\n",
    "\n",
    "dataset = fetch_datasets()[dataset_name]\n",
    "X = dataset.data\n",
    "y = dataset.target\n",
    "\n",
    "minor_class = np.min(y)\n",
    "train_embeddings = X[y == minor_class]\n",
    "test_embeddings = X[y != minor_class]\n",
    "\n",
    "print(len(test_embeddings), len(train_embeddings))\n",
    "\n",
    "# np.random.seed(42)\n",
    "# test_sample_indices = np.random.choice(test_embeddings_full.shape[0], min(1000, len(test_embeddings_full)), replace=False)\n",
    "# test_embeddings = test_embeddings_full[test_sample_indices]\n",
    "\n",
    "max_k = 11\n",
    "max_t = 11\n",
    "t_values = range(1, max_t + 1, 2)\n",
    "k_values = range(1, max_k + 1)\n",
    "\n",
    "partitioner = EmbeddingsPartition(train_embeddings, dimension=train_embeddings.shape[1])\n",
    "\n",
    "all_projections = {t: [] for t in t_values}\n",
    "\n",
    "number_of_simplexes = {t: [] for t in t_values}\n",
    "\n",
    "def filter_simplexes_by_size(simplexes, size):\n",
    "    return [simplex for simplex in simplexes if len(simplex) == size]\n",
    "\n",
    "for t in t_values:\n",
    "    print(f\"Building simplexes with max_k={max_k} and t={t}\")\n",
    "    all_simplexes = partitioner.run_method(\"clique\", k=max_k, t=t)\n",
    "    print(f\"Total simplexes {len(all_simplexes)}\")\n",
    "\n",
    "    for k in k_values:\n",
    "        print(f\"Filtering simplexes to size k={k} for t={t}\")\n",
    "        filtered_simplexes = filter_simplexes_by_size(all_simplexes, k)\n",
    "        print(f\"Simplexes with size={k}, {len(filtered_simplexes)}\")\n",
    "        number_of_simplexes[t].append(len(filtered_simplexes))\n",
    "\n",
    "        simplex_projection = SimplexProjection(filtered_simplexes)\n",
    "\n",
    "        projections = simplex_projection.find_closest_projections(test_embeddings)\n",
    "        if projections[0].sum() == 0:\n",
    "            all_projections[t].append([])\n",
    "            continue\n",
    "        \n",
    "        distances = np.linalg.norm(test_embeddings - projections, axis=1)\n",
    "        mean_distance = np.mean(distances)\n",
    "        all_projections[t].append(projections)\n",
    "\n",
    "        print(f\"Mean distance for k={k}, t={t}: {mean_distance}\")"
   ],
   "outputs": [
    {
     "name": "stdout",
     "output_type": "stream",
     "text": [
      "45 486\n",
      "Building simplexes with max_k=11 and t=1\n",
      "Total simplexes 486\n",
      "Filtering simplexes to size k=1 for t=1\n",
      "Simplexes with size=1, 486\n",
      "Filtering simplexes to size k=2 for t=1\n",
      "Simplexes with size=2, 0\n",
      "Filtering simplexes to size k=3 for t=1\n",
      "Simplexes with size=3, 0\n",
      "Filtering simplexes to size k=4 for t=1\n",
      "Simplexes with size=4, 0\n",
      "Filtering simplexes to size k=5 for t=1\n",
      "Simplexes with size=5, 0\n",
      "Filtering simplexes to size k=6 for t=1\n",
      "Simplexes with size=6, 0\n",
      "Filtering simplexes to size k=7 for t=1\n",
      "Simplexes with size=7, 0\n",
      "Filtering simplexes to size k=8 for t=1\n",
      "Simplexes with size=8, 0\n",
      "Filtering simplexes to size k=9 for t=1\n",
      "Simplexes with size=9, 0\n",
      "Filtering simplexes to size k=10 for t=1\n",
      "Simplexes with size=10, 0\n",
      "Filtering simplexes to size k=11 for t=1\n",
      "Simplexes with size=11, 0\n",
      "Building simplexes with max_k=11 and t=3\n",
      "Total simplexes 1423\n",
      "Filtering simplexes to size k=1 for t=3\n",
      "Simplexes with size=1, 486\n"
     ]
    }
   ],
   "execution_count": null
  },
  {
   "metadata": {
    "jupyter": {
     "is_executing": true
    }
   },
   "cell_type": "code",
   "source": [
    "import numpy as np\n",
    "import matplotlib.pyplot as plt\n",
    "\n",
    "quantiles = [0.2, 0.4, 0.6, 0.8]\n",
    "quantile_results = {t: {q: [] for q in quantiles} for t in t_values}\n",
    "\n",
    "def calculate_quantiles():\n",
    "    for t in t_values:\n",
    "        for idx, k in enumerate(k_values):\n",
    "            projection_set = all_projections[t][idx]\n",
    "            if len(projection_set) > 0:\n",
    "                distances = np.linalg.norm(test_embeddings - projection_set, axis=1)\n",
    "                for q in quantiles:\n",
    "                    quantile_value = np.quantile(distances, q)\n",
    "                    quantile_results[t][q].append(quantile_value)\n",
    "            else:\n",
    "                for q in quantiles:\n",
    "                    quantile_results[t][q].append(1e9)\n",
    "                \n",
    "calculate_quantiles()\n",
    "\n",
    "fig, axs = plt.subplots(2, 2, figsize=(14, 10))\n",
    "axs = axs.flatten()\n",
    "line_styles = ['-', '--', '-.', ':']\n",
    "line_widths = [2, 2, 2, 2]\n",
    "\n",
    "for ax, q in zip(axs, quantiles):\n",
    "    for i, t in enumerate(t_values):\n",
    "        valid_indices = [i for i, val in enumerate(quantile_results[t][q]) if val < 1e9]\n",
    "        valid_k_values = [k_values[i] for i in valid_indices]\n",
    "        valid_quantiles = [quantile_results[t][q][i] for i in valid_indices]\n",
    "        ax.plot(valid_k_values, valid_quantiles, label=f't={t}', linestyle=line_styles[i % len(line_styles)], linewidth=line_widths[i % len(line_widths)])\n",
    "    ax.set_title(f\"{dataset_name} Quantile {q} Distance to Projections\")\n",
    "    ax.set_xlabel(\"k (Size of Simplex)\")\n",
    "    ax.set_ylabel(\"Quantile Distance\")\n",
    "    ax.legend(title=\"t values\")\n",
    "    ax.grid(True, which=\"both\", ls=\"--\")\n",
    "\n",
    "plt.tight_layout()\n",
    "plt.show()"
   ],
   "id": "b9a553fc3bb9cd25",
   "outputs": [],
   "execution_count": null
  },
  {
   "metadata": {
    "jupyter": {
     "is_executing": true
    }
   },
   "cell_type": "code",
   "source": [
    "import matplotlib.pyplot as plt\n",
    "\n",
    "fig, ax = plt.subplots(figsize=(12, 6))\n",
    "\n",
    "colors = plt.cm.Set1(np.linspace(0, 1, len(t_values)))\n",
    "\n",
    "bar_width = 0.15 \n",
    "offset = bar_width * len(t_values) / 2\n",
    "for i, t in enumerate(sorted(t_values)):\n",
    "    simplex_sizes = k_values\n",
    "    counts = number_of_simplexes[t]\n",
    "    bar_positions = [size + (i * bar_width) - offset + (bar_width / 2) for size in simplex_sizes]\n",
    "    ax.bar(bar_positions, counts, alpha=0.8, label=f't={t}', color=colors[i], width=bar_width)\n",
    "\n",
    "ax.set_xticks([size for size in k_values])\n",
    "ax.set_xticklabels([str(size) for size in k_values])\n",
    "\n",
    "ax.set_xlabel('Size of Simplex (k)')\n",
    "ax.set_ylabel('Number of Simplexes')\n",
    "ax.set_title(f'{dataset_name} Histogram of Number of Simplexes by Size')\n",
    "ax.legend(title=\"t values\")\n",
    "ax.grid(True, which=\"both\", ls=\"--\")\n",
    "\n",
    "plt.tight_layout()\n",
    "plt.show()\n"
   ],
   "id": "7e8e7ee5f5f787c6",
   "outputs": [],
   "execution_count": null
  },
  {
   "metadata": {},
   "cell_type": "code",
   "outputs": [],
   "execution_count": null,
   "source": "",
   "id": "bab0820be9035741"
  }
 ],
 "metadata": {
  "kernelspec": {
   "display_name": "Python 3",
   "language": "python",
   "name": "python3"
  },
  "language_info": {
   "codemirror_mode": {
    "name": "ipython",
    "version": 2
   },
   "file_extension": ".py",
   "mimetype": "text/x-python",
   "name": "python",
   "nbconvert_exporter": "python",
   "pygments_lexer": "ipython2",
   "version": "2.7.6"
  }
 },
 "nbformat": 4,
 "nbformat_minor": 5
}
